{
 "cells": [
  {
   "cell_type": "code",
   "execution_count": 123,
   "id": "4147c77b",
   "metadata": {},
   "outputs": [],
   "source": [
    "import pandas as pd\n",
    "import numpy as np"
   ]
  },
  {
   "cell_type": "code",
   "execution_count": 124,
   "id": "8852db47",
   "metadata": {},
   "outputs": [],
   "source": [
    "df = pd.read_csv('Reviews.csv',encoding=\"utf8\")\n",
    "df = df.sample(frac=1, random_state=10)"
   ]
  },
  {
   "cell_type": "code",
   "execution_count": 125,
   "id": "f30d9e92",
   "metadata": {
    "scrolled": true
   },
   "outputs": [
    {
     "data": {
      "text/html": [
       "<div>\n",
       "<style scoped>\n",
       "    .dataframe tbody tr th:only-of-type {\n",
       "        vertical-align: middle;\n",
       "    }\n",
       "\n",
       "    .dataframe tbody tr th {\n",
       "        vertical-align: top;\n",
       "    }\n",
       "\n",
       "    .dataframe thead th {\n",
       "        text-align: right;\n",
       "    }\n",
       "</style>\n",
       "<table border=\"1\" class=\"dataframe\">\n",
       "  <thead>\n",
       "    <tr style=\"text-align: right;\">\n",
       "      <th></th>\n",
       "      <th>category</th>\n",
       "      <th>rating</th>\n",
       "      <th>label</th>\n",
       "      <th>text_</th>\n",
       "    </tr>\n",
       "  </thead>\n",
       "  <tbody>\n",
       "    <tr>\n",
       "      <th>26860</th>\n",
       "      <td>Kindle_Store_5</td>\n",
       "      <td>5.0</td>\n",
       "      <td>OR</td>\n",
       "      <td>I apologize for my preconceived notions! I hon...</td>\n",
       "    </tr>\n",
       "    <tr>\n",
       "      <th>24031</th>\n",
       "      <td>Kindle_Store_5</td>\n",
       "      <td>4.0</td>\n",
       "      <td>OR</td>\n",
       "      <td>I didn't think I would have enjoyed this serie...</td>\n",
       "    </tr>\n",
       "    <tr>\n",
       "      <th>766</th>\n",
       "      <td>Home_and_Kitchen_5</td>\n",
       "      <td>3.0</td>\n",
       "      <td>OR</td>\n",
       "      <td>Delivery was exactly as expected.  Bowls were ...</td>\n",
       "    </tr>\n",
       "    <tr>\n",
       "      <th>23683</th>\n",
       "      <td>Pet_Supplies_5</td>\n",
       "      <td>3.0</td>\n",
       "      <td>OR</td>\n",
       "      <td>I am a full time dog trainer and I ordered thi...</td>\n",
       "    </tr>\n",
       "    <tr>\n",
       "      <th>32291</th>\n",
       "      <td>Books_5</td>\n",
       "      <td>4.0</td>\n",
       "      <td>CG</td>\n",
       "      <td>I am Charlotte Simmons is a real professional ...</td>\n",
       "    </tr>\n",
       "  </tbody>\n",
       "</table>\n",
       "</div>"
      ],
      "text/plain": [
       "                 category  rating label  \\\n",
       "26860      Kindle_Store_5     5.0    OR   \n",
       "24031      Kindle_Store_5     4.0    OR   \n",
       "766    Home_and_Kitchen_5     3.0    OR   \n",
       "23683      Pet_Supplies_5     3.0    OR   \n",
       "32291             Books_5     4.0    CG   \n",
       "\n",
       "                                                   text_  \n",
       "26860  I apologize for my preconceived notions! I hon...  \n",
       "24031  I didn't think I would have enjoyed this serie...  \n",
       "766    Delivery was exactly as expected.  Bowls were ...  \n",
       "23683  I am a full time dog trainer and I ordered thi...  \n",
       "32291  I am Charlotte Simmons is a real professional ...  "
      ]
     },
     "execution_count": 125,
     "metadata": {},
     "output_type": "execute_result"
    }
   ],
   "source": [
    "df.head()"
   ]
  },
  {
   "cell_type": "code",
   "execution_count": 126,
   "id": "f1ef0b5a",
   "metadata": {
    "scrolled": true
   },
   "outputs": [
    {
     "data": {
      "text/plain": [
       "40432"
      ]
     },
     "execution_count": 126,
     "metadata": {},
     "output_type": "execute_result"
    }
   ],
   "source": [
    "len(df)"
   ]
  },
  {
   "cell_type": "code",
   "execution_count": 127,
   "id": "a1002bb5",
   "metadata": {
    "scrolled": true
   },
   "outputs": [
    {
     "name": "stdout",
     "output_type": "stream",
     "text": [
      "<class 'pandas.core.frame.DataFrame'>\n",
      "Index: 40432 entries, 26860 to 17673\n",
      "Data columns (total 4 columns):\n",
      " #   Column    Non-Null Count  Dtype  \n",
      "---  ------    --------------  -----  \n",
      " 0   category  40432 non-null  object \n",
      " 1   rating    40432 non-null  float64\n",
      " 2   label     40432 non-null  object \n",
      " 3   text_     40432 non-null  object \n",
      "dtypes: float64(1), object(3)\n",
      "memory usage: 1.5+ MB\n"
     ]
    }
   ],
   "source": [
    "df.info()"
   ]
  },
  {
   "cell_type": "code",
   "execution_count": 148,
   "id": "d4640201",
   "metadata": {},
   "outputs": [],
   "source": [
    "# Drop missing values\n",
    "df.dropna(inplace=True)\n",
    "\n",
    "# Remove any 'neutral' ratings equal to 3\n",
    "df = df[df['rating'] != 3.0]\n",
    "\n",
    "# Encode 4s and 5s as 1 (rated positively)\n",
    "# Encode 1s and 2s as 0 (rated poorly)\n",
    "df['Positively Rated'] = np.where(df['rating'] > 3.0, 1, 0)\n",
    "\n",
    "#> greater than 3, become 1 and 0"
   ]
  },
  {
   "cell_type": "code",
   "execution_count": 149,
   "id": "e780aa8c",
   "metadata": {
    "scrolled": false
   },
   "outputs": [
    {
     "data": {
      "text/html": [
       "<div>\n",
       "<style scoped>\n",
       "    .dataframe tbody tr th:only-of-type {\n",
       "        vertical-align: middle;\n",
       "    }\n",
       "\n",
       "    .dataframe tbody tr th {\n",
       "        vertical-align: top;\n",
       "    }\n",
       "\n",
       "    .dataframe thead th {\n",
       "        text-align: right;\n",
       "    }\n",
       "</style>\n",
       "<table border=\"1\" class=\"dataframe\">\n",
       "  <thead>\n",
       "    <tr style=\"text-align: right;\">\n",
       "      <th></th>\n",
       "      <th>category</th>\n",
       "      <th>rating</th>\n",
       "      <th>label</th>\n",
       "      <th>text_</th>\n",
       "      <th>Positively Rated</th>\n",
       "    </tr>\n",
       "  </thead>\n",
       "  <tbody>\n",
       "    <tr>\n",
       "      <th>24031</th>\n",
       "      <td>Kindle_Store_5</td>\n",
       "      <td>4.0</td>\n",
       "      <td>OR</td>\n",
       "      <td>I didn't think I would have enjoyed this serie...</td>\n",
       "      <td>1</td>\n",
       "    </tr>\n",
       "    <tr>\n",
       "      <th>32291</th>\n",
       "      <td>Books_5</td>\n",
       "      <td>4.0</td>\n",
       "      <td>CG</td>\n",
       "      <td>I am Charlotte Simmons is a real professional ...</td>\n",
       "      <td>1</td>\n",
       "    </tr>\n",
       "    <tr>\n",
       "      <th>37253</th>\n",
       "      <td>Clothing_Shoes_and_Jewelry_5</td>\n",
       "      <td>4.0</td>\n",
       "      <td>OR</td>\n",
       "      <td>My son is happy with it a very comfortable fit...</td>\n",
       "      <td>1</td>\n",
       "    </tr>\n",
       "    <tr>\n",
       "      <th>993</th>\n",
       "      <td>Home_and_Kitchen_5</td>\n",
       "      <td>4.0</td>\n",
       "      <td>CG</td>\n",
       "      <td>Very solid built and appears to be well made.V...</td>\n",
       "      <td>1</td>\n",
       "    </tr>\n",
       "    <tr>\n",
       "      <th>35010</th>\n",
       "      <td>Toys_and_Games_5</td>\n",
       "      <td>2.0</td>\n",
       "      <td>CG</td>\n",
       "      <td>Quick lil bugger. Controls are easy to follow ...</td>\n",
       "      <td>0</td>\n",
       "    </tr>\n",
       "    <tr>\n",
       "      <th>24469</th>\n",
       "      <td>Kindle_Store_5</td>\n",
       "      <td>4.0</td>\n",
       "      <td>CG</td>\n",
       "      <td>A very good story and a sweet love story.  I w...</td>\n",
       "      <td>1</td>\n",
       "    </tr>\n",
       "    <tr>\n",
       "      <th>294</th>\n",
       "      <td>Home_and_Kitchen_5</td>\n",
       "      <td>2.0</td>\n",
       "      <td>OR</td>\n",
       "      <td>worked OK the one time before it fell apart an...</td>\n",
       "      <td>0</td>\n",
       "    </tr>\n",
       "    <tr>\n",
       "      <th>8486</th>\n",
       "      <td>Electronics_5</td>\n",
       "      <td>2.0</td>\n",
       "      <td>CG</td>\n",
       "      <td>I had this item less than a week ago and it ha...</td>\n",
       "      <td>0</td>\n",
       "    </tr>\n",
       "    <tr>\n",
       "      <th>32127</th>\n",
       "      <td>Books_5</td>\n",
       "      <td>4.0</td>\n",
       "      <td>OR</td>\n",
       "      <td>In a world of Elena's, Sookie's, Bella's and B...</td>\n",
       "      <td>1</td>\n",
       "    </tr>\n",
       "    <tr>\n",
       "      <th>37242</th>\n",
       "      <td>Clothing_Shoes_and_Jewelry_5</td>\n",
       "      <td>4.0</td>\n",
       "      <td>CG</td>\n",
       "      <td>fit is small - go up a size. Not too large or ...</td>\n",
       "      <td>1</td>\n",
       "    </tr>\n",
       "    <tr>\n",
       "      <th>8717</th>\n",
       "      <td>Electronics_5</td>\n",
       "      <td>4.0</td>\n",
       "      <td>OR</td>\n",
       "      <td>Great performance , but rear speakers are a li...</td>\n",
       "      <td>1</td>\n",
       "    </tr>\n",
       "    <tr>\n",
       "      <th>25472</th>\n",
       "      <td>Kindle_Store_5</td>\n",
       "      <td>4.0</td>\n",
       "      <td>CG</td>\n",
       "      <td>I fell in absolute love with this book. It is ...</td>\n",
       "      <td>1</td>\n",
       "    </tr>\n",
       "    <tr>\n",
       "      <th>32932</th>\n",
       "      <td>Toys_and_Games_5</td>\n",
       "      <td>4.0</td>\n",
       "      <td>CG</td>\n",
       "      <td>Just didn't think they were that big, but they...</td>\n",
       "      <td>1</td>\n",
       "    </tr>\n",
       "    <tr>\n",
       "      <th>2707</th>\n",
       "      <td>Home_and_Kitchen_5</td>\n",
       "      <td>4.0</td>\n",
       "      <td>OR</td>\n",
       "      <td>This is a nicely constructed vinyl tablecloth ...</td>\n",
       "      <td>1</td>\n",
       "    </tr>\n",
       "    <tr>\n",
       "      <th>24232</th>\n",
       "      <td>Kindle_Store_5</td>\n",
       "      <td>4.0</td>\n",
       "      <td>OR</td>\n",
       "      <td>This one was good. It had a lot going on but i...</td>\n",
       "      <td>1</td>\n",
       "    </tr>\n",
       "    <tr>\n",
       "      <th>18940</th>\n",
       "      <td>Tools_and_Home_Improvement_5</td>\n",
       "      <td>1.0</td>\n",
       "      <td>OR</td>\n",
       "      <td>Worked great but failed to heat after a year. ...</td>\n",
       "      <td>0</td>\n",
       "    </tr>\n",
       "    <tr>\n",
       "      <th>25883</th>\n",
       "      <td>Kindle_Store_5</td>\n",
       "      <td>4.0</td>\n",
       "      <td>OR</td>\n",
       "      <td>Short story all the details are there but it m...</td>\n",
       "      <td>1</td>\n",
       "    </tr>\n",
       "    <tr>\n",
       "      <th>40364</th>\n",
       "      <td>Clothing_Shoes_and_Jewelry_5</td>\n",
       "      <td>4.0</td>\n",
       "      <td>CG</td>\n",
       "      <td>These boots WILL keep you warm. The wide width...</td>\n",
       "      <td>1</td>\n",
       "    </tr>\n",
       "    <tr>\n",
       "      <th>17453</th>\n",
       "      <td>Tools_and_Home_Improvement_5</td>\n",
       "      <td>4.0</td>\n",
       "      <td>OR</td>\n",
       "      <td>The on off button is sometimes hard to hit, pe...</td>\n",
       "      <td>1</td>\n",
       "    </tr>\n",
       "    <tr>\n",
       "      <th>37626</th>\n",
       "      <td>Clothing_Shoes_and_Jewelry_5</td>\n",
       "      <td>1.0</td>\n",
       "      <td>CG</td>\n",
       "      <td>OMG, Natural Energy Frequency Technology, &amp; Th...</td>\n",
       "      <td>0</td>\n",
       "    </tr>\n",
       "  </tbody>\n",
       "</table>\n",
       "</div>"
      ],
      "text/plain": [
       "                           category  rating label  \\\n",
       "24031                Kindle_Store_5     4.0    OR   \n",
       "32291                       Books_5     4.0    CG   \n",
       "37253  Clothing_Shoes_and_Jewelry_5     4.0    OR   \n",
       "993              Home_and_Kitchen_5     4.0    CG   \n",
       "35010              Toys_and_Games_5     2.0    CG   \n",
       "24469                Kindle_Store_5     4.0    CG   \n",
       "294              Home_and_Kitchen_5     2.0    OR   \n",
       "8486                  Electronics_5     2.0    CG   \n",
       "32127                       Books_5     4.0    OR   \n",
       "37242  Clothing_Shoes_and_Jewelry_5     4.0    CG   \n",
       "8717                  Electronics_5     4.0    OR   \n",
       "25472                Kindle_Store_5     4.0    CG   \n",
       "32932              Toys_and_Games_5     4.0    CG   \n",
       "2707             Home_and_Kitchen_5     4.0    OR   \n",
       "24232                Kindle_Store_5     4.0    OR   \n",
       "18940  Tools_and_Home_Improvement_5     1.0    OR   \n",
       "25883                Kindle_Store_5     4.0    OR   \n",
       "40364  Clothing_Shoes_and_Jewelry_5     4.0    CG   \n",
       "17453  Tools_and_Home_Improvement_5     4.0    OR   \n",
       "37626  Clothing_Shoes_and_Jewelry_5     1.0    CG   \n",
       "\n",
       "                                                   text_  Positively Rated  \n",
       "24031  I didn't think I would have enjoyed this serie...                 1  \n",
       "32291  I am Charlotte Simmons is a real professional ...                 1  \n",
       "37253  My son is happy with it a very comfortable fit...                 1  \n",
       "993    Very solid built and appears to be well made.V...                 1  \n",
       "35010  Quick lil bugger. Controls are easy to follow ...                 0  \n",
       "24469  A very good story and a sweet love story.  I w...                 1  \n",
       "294    worked OK the one time before it fell apart an...                 0  \n",
       "8486   I had this item less than a week ago and it ha...                 0  \n",
       "32127  In a world of Elena's, Sookie's, Bella's and B...                 1  \n",
       "37242  fit is small - go up a size. Not too large or ...                 1  \n",
       "8717   Great performance , but rear speakers are a li...                 1  \n",
       "25472  I fell in absolute love with this book. It is ...                 1  \n",
       "32932  Just didn't think they were that big, but they...                 1  \n",
       "2707   This is a nicely constructed vinyl tablecloth ...                 1  \n",
       "24232  This one was good. It had a lot going on but i...                 1  \n",
       "18940  Worked great but failed to heat after a year. ...                 0  \n",
       "25883  Short story all the details are there but it m...                 1  \n",
       "40364  These boots WILL keep you warm. The wide width...                 1  \n",
       "17453  The on off button is sometimes hard to hit, pe...                 1  \n",
       "37626  OMG, Natural Energy Frequency Technology, & Th...                 0  "
      ]
     },
     "execution_count": 149,
     "metadata": {},
     "output_type": "execute_result"
    }
   ],
   "source": [
    "df.head(20)"
   ]
  },
  {
   "cell_type": "code",
   "execution_count": 150,
   "id": "ccb483c1",
   "metadata": {
    "scrolled": false
   },
   "outputs": [
    {
     "name": "stdout",
     "output_type": "stream",
     "text": [
      "<class 'pandas.core.frame.DataFrame'>\n",
      "Index: 12087 entries, 24031 to 28017\n",
      "Data columns (total 5 columns):\n",
      " #   Column            Non-Null Count  Dtype  \n",
      "---  ------            --------------  -----  \n",
      " 0   category          12087 non-null  object \n",
      " 1   rating            12087 non-null  float64\n",
      " 2   label             12087 non-null  object \n",
      " 3   text_             12087 non-null  object \n",
      " 4   Positively Rated  12087 non-null  int32  \n",
      "dtypes: float64(1), int32(1), object(3)\n",
      "memory usage: 519.4+ KB\n"
     ]
    }
   ],
   "source": [
    "df.info()"
   ]
  },
  {
   "cell_type": "markdown",
   "id": "e0850319",
   "metadata": {},
   "source": [
    "# Model Selection in scikit-learn"
   ]
  },
  {
   "cell_type": "code",
   "execution_count": 151,
   "id": "bbb15604",
   "metadata": {},
   "outputs": [],
   "source": [
    "from sklearn.model_selection import train_test_split\n",
    "\n",
    "# Split data into train and test subsets\n",
    "X_train, X_test, y_train, y_test = train_test_split(df['text_'], \n",
    "                                                    df['Positively Rated'], \n",
    "                                                    random_state=0)"
   ]
  },
  {
   "cell_type": "code",
   "execution_count": 152,
   "id": "59306008",
   "metadata": {},
   "outputs": [
    {
     "name": "stdout",
     "output_type": "stream",
     "text": [
      "The Dreamaway Comfort Fill Mattress Protector was good for a while but then problems arose.  First was that the fill compressed in the center, which created a shallow dip in the center.  Next the top material pilled too much; some pilling was expected but this became too excessive.\n"
     ]
    }
   ],
   "source": [
    "print( X_train.iloc[10])"
   ]
  },
  {
   "cell_type": "code",
   "execution_count": 153,
   "id": "e2776371",
   "metadata": {},
   "outputs": [
    {
     "data": {
      "text/plain": [
       "(9065,)"
      ]
     },
     "execution_count": 153,
     "metadata": {},
     "output_type": "execute_result"
    }
   ],
   "source": [
    "X_train.shape"
   ]
  },
  {
   "cell_type": "code",
   "execution_count": 154,
   "id": "64412898",
   "metadata": {},
   "outputs": [
    {
     "data": {
      "text/plain": [
       "(3022,)"
      ]
     },
     "execution_count": 154,
     "metadata": {},
     "output_type": "execute_result"
    }
   ],
   "source": [
    "X_test.shape"
   ]
  },
  {
   "cell_type": "markdown",
   "id": "0971f00e",
   "metadata": {},
   "source": [
    "# BOW\n",
    "gabungkan words byk2"
   ]
  },
  {
   "cell_type": "code",
   "execution_count": 155,
   "id": "f088099f",
   "metadata": {},
   "outputs": [],
   "source": [
    "from sklearn.feature_extraction.text import CountVectorizer\n",
    "\n",
    "docs = np.array([\n",
    "    'Delivery was exactly as expected',\n",
    "    'Way too heavy for everyday use',\n",
    "    'Great quality, beautiful color'])\n",
    "\n",
    "# Fit the CountVectorizer to the training data \n",
    "vect1=CountVectorizer().fit(docs)\n",
    "\n",
    "# transform the documents in the training data to a document-term matrix. \n",
    "bag = vect1.transform(docs)"
   ]
  },
  {
   "cell_type": "code",
   "execution_count": 156,
   "id": "f1eb232d",
   "metadata": {},
   "outputs": [
    {
     "data": {
      "text/plain": [
       "{'delivery': 3,\n",
       " 'was': 13,\n",
       " 'exactly': 5,\n",
       " 'as': 0,\n",
       " 'expected': 6,\n",
       " 'way': 14,\n",
       " 'too': 11,\n",
       " 'heavy': 9,\n",
       " 'for': 7,\n",
       " 'everyday': 4,\n",
       " 'use': 12,\n",
       " 'great': 8,\n",
       " 'quality': 10,\n",
       " 'beautiful': 1,\n",
       " 'color': 2}"
      ]
     },
     "execution_count": 156,
     "metadata": {},
     "output_type": "execute_result"
    }
   ],
   "source": [
    "vect1.vocabulary_"
   ]
  },
  {
   "cell_type": "code",
   "execution_count": 157,
   "id": "5bcad9a8",
   "metadata": {},
   "outputs": [
    {
     "data": {
      "text/plain": [
       "array(['as', 'beautiful', 'color', 'delivery', 'everyday', 'exactly',\n",
       "       'expected', 'for', 'great', 'heavy', 'quality', 'too', 'use',\n",
       "       'was', 'way'], dtype=object)"
      ]
     },
     "execution_count": 157,
     "metadata": {},
     "output_type": "execute_result"
    }
   ],
   "source": [
    "vect1.get_feature_names_out()"
   ]
  },
  {
   "cell_type": "code",
   "execution_count": 158,
   "id": "bbb3c196",
   "metadata": {},
   "outputs": [
    {
     "name": "stdout",
     "output_type": "stream",
     "text": [
      "21476\n"
     ]
    },
    {
     "data": {
      "text/plain": [
       "(9065, 21476)"
      ]
     },
     "execution_count": 158,
     "metadata": {},
     "output_type": "execute_result"
    }
   ],
   "source": [
    "# Fit the CountVectorizer to the training data \n",
    "review1 = CountVectorizer().fit(X_train)\n",
    "\n",
    "# transform the documents in the training data to a document-term matrix. \n",
    "X_train_vectorized1 = review1.transform(X_train) #bag of words (unique token in vectors format)\n",
    "\n",
    "\n",
    "print(len(review1.get_feature_names_out()))\n",
    "X_train_vectorized1.shape"
   ]
  },
  {
   "cell_type": "code",
   "execution_count": 159,
   "id": "7cf92e13",
   "metadata": {},
   "outputs": [
    {
     "data": {
      "text/plain": [
       "{'for': 7822,\n",
       " 'some': 17665,\n",
       " 'reason': 15326,\n",
       " 'the': 19119,\n",
       " 'earth': 6378,\n",
       " 'crust': 4945,\n",
       " 'has': 9008,\n",
       " 'been': 2205,\n",
       " 'knocked': 10825,\n",
       " 'off': 13210,\n",
       " 'this': 19203,\n",
       " 'is': 10318,\n",
       " 'spectacular': 17821,\n",
       " 'visual': 20541,\n",
       " 'spectacle': 17820,\n",
       " 'can': 3218,\n",
       " 'say': 16527,\n",
       " 'enough': 6730,\n",
       " 'good': 8499,\n",
       " 'things': 19186,\n",
       " 'about': 702,\n",
       " 'movie': 12578,\n",
       " 'and': 1282,\n",
       " 'sure': 18614,\n",
       " 'it': 10343,\n",
       " 'will': 21020,\n",
       " 'be': 2144,\n",
       " 'worth': 21217,\n",
       " 'watching': 20747,\n",
       " 'film': 7509,\n",
       " 'that': 19115,\n",
       " 'make': 11734,\n",
       " 'you': 21390,\n",
       " 'want': 20680,\n",
       " 'to': 19392,\n",
       " 'see': 16756,\n",
       " 'fast': 7312,\n",
       " 'paced': 13593,\n",
       " 'clever': 3913,\n",
       " 'very': 20425,\n",
       " 'entertaining': 6747,\n",
       " 'if': 9676,\n",
       " 'haven': 9045,\n",
       " 'seen': 16770,\n",
       " 'highly': 9267,\n",
       " 'recommend': 15411,\n",
       " 'great': 8643,\n",
       " 'whole': 20960,\n",
       " 'family': 7261,\n",
       " 'don': 6032,\n",
       " 'know': 10832,\n",
       " 'how': 9501,\n",
       " 'watch': 20740,\n",
       " 'check': 3624,\n",
       " 'out': 13441,\n",
       " 'like': 11269,\n",
       " 'too': 19456,\n",
       " 've': 20367,\n",
       " 'read': 15286,\n",
       " 'few': 7447,\n",
       " 'reviews': 15963,\n",
       " 'of': 13208,\n",
       " 'ones': 13282,\n",
       " 'have': 9044,\n",
       " 'said': 16398,\n",
       " 'really': 15318,\n",
       " 'what': 20892,\n",
       " 'problem': 14711,\n",
       " 'with': 21107,\n",
       " 'think': 19188,\n",
       " 'major': 11731,\n",
       " 'one': 13281,\n",
       " 'just': 10614,\n",
       " 'seeing': 16760,\n",
       " 'bad': 1960,\n",
       " 'but': 3092,\n",
       " 'keep': 10670,\n",
       " 'me': 11998,\n",
       " 'from': 8024,\n",
       " 'wearing': 20802,\n",
       " 'as': 1573,\n",
       " 'large': 10980,\n",
       " 'nice': 12905,\n",
       " 'bag': 1967,\n",
       " 'pretty': 14633,\n",
       " 'bought': 2715,\n",
       " 'my': 12676,\n",
       " 'son': 17681,\n",
       " 'he': 9080,\n",
       " 'loves': 11535,\n",
       " 'wears': 20803,\n",
       " 'often': 13233,\n",
       " 'comfortable': 4160,\n",
       " 'cheap': 3611,\n",
       " 'price': 14651,\n",
       " 'lot': 11508,\n",
       " 'small': 17486,\n",
       " 'than': 19108,\n",
       " 'expected': 7063,\n",
       " 'worked': 21187,\n",
       " 'failed': 7222,\n",
       " 'heat': 9136,\n",
       " 'after': 990,\n",
       " 'year': 21353,\n",
       " 'visually': 20542,\n",
       " 'identical': 9651,\n",
       " 'at': 1663,\n",
       " 'big': 2364,\n",
       " 'box': 2740,\n",
       " 'store': 18245,\n",
       " 'many': 11820,\n",
       " 'cheaply': 3616,\n",
       " 'made': 11666,\n",
       " 'brands': 2791,\n",
       " 'usually': 20273,\n",
       " 'constructed': 4451,\n",
       " 'in': 9815,\n",
       " 'foreign': 7841,\n",
       " 'nations': 12755,\n",
       " 'imported': 9787,\n",
       " 'particular': 13752,\n",
       " 'two': 19880,\n",
       " 'others': 13424,\n",
       " 'we': 20785,\n",
       " 'because': 2184,\n",
       " 'they': 19166,\n",
       " 'use': 20258,\n",
       " 'mechanical': 12026,\n",
       " 'thermostat': 19159,\n",
       " 'uses': 20266,\n",
       " 'inferior': 9947,\n",
       " 'materials': 11931,\n",
       " 'electrical': 6520,\n",
       " 'contacts': 4467,\n",
       " 'or': 13352,\n",
       " 'so': 17599,\n",
       " 'constant': 4443,\n",
       " 'form': 7867,\n",
       " 'pits': 14170,\n",
       " 'welding': 20853,\n",
       " 'spark': 17775,\n",
       " 'takes': 18838,\n",
       " 'place': 14188,\n",
       " 'when': 20905,\n",
       " 'separate': 16840,\n",
       " 'eventially': 6935,\n",
       " 'are': 1501,\n",
       " 'destroyed': 5536,\n",
       " 'heater': 9138,\n",
       " 'core': 4617,\n",
       " 'fails': 7224,\n",
       " 'warm': 20693,\n",
       " 'proper': 14814,\n",
       " 'temperature': 19012,\n",
       " 'may': 11965,\n",
       " 'never': 12876,\n",
       " 'get': 8317,\n",
       " 'hot': 9477,\n",
       " 'forewarned': 7851,\n",
       " 'elements': 6531,\n",
       " 'which': 20915,\n",
       " 'glow': 8439,\n",
       " 'red': 15447,\n",
       " 'ignite': 9682,\n",
       " 'hair': 8842,\n",
       " 'cloth': 3983,\n",
       " 'fibers': 7460,\n",
       " 'sucked': 18491,\n",
       " 'into': 10216,\n",
       " 'cause': 3435,\n",
       " 'fires': 7578,\n",
       " 'shut': 17160,\n",
       " 'fan': 7265,\n",
       " 'clean': 3892,\n",
       " 'thorough': 19212,\n",
       " 'smell': 17508,\n",
       " 'oder': 13203,\n",
       " 'burning': 3065,\n",
       " 'other': 13423,\n",
       " 'smells': 17511,\n",
       " 'little': 11370,\n",
       " 'bulky': 3013,\n",
       " 'right': 16033,\n",
       " 'size': 17304,\n",
       " 'car': 3288,\n",
       " 'soft': 17629,\n",
       " 'color': 4113,\n",
       " 'was': 20720,\n",
       " 'strip': 18343,\n",
       " 'purple': 14982,\n",
       " 'way': 20772,\n",
       " 'scarf': 16555,\n",
       " 'would': 21221,\n",
       " 'hard': 8957,\n",
       " 'wear': 20797,\n",
       " 'anyway': 1388,\n",
       " 'around': 1533,\n",
       " 'neck': 12800,\n",
       " 'not': 13034,\n",
       " 'buy': 3107,\n",
       " 'again': 999,\n",
       " 'device': 5587,\n",
       " 'wifi': 20998,\n",
       " 'coverage': 4737,\n",
       " 'reality': 15312,\n",
       " 'muscles': 12646,\n",
       " 'no': 12963,\n",
       " 'brain': 2774,\n",
       " 'minute': 12295,\n",
       " '45': 434,\n",
       " 'sec': 16733,\n",
       " 'boot': 2662,\n",
       " 'up': 20206,\n",
       " 'there': 19146,\n",
       " 'tons': 19453,\n",
       " 'servers': 16877,\n",
       " 'on': 13276,\n",
       " 'its': 10354,\n",
       " 'back': 1932,\n",
       " 'times': 19344,\n",
       " 'shutdown': 17161,\n",
       " 'come': 4148,\n",
       " 'finding': 7534,\n",
       " 'blinking': 2509,\n",
       " 'although': 1190,\n",
       " 'works': 21198,\n",
       " 'restart': 15867,\n",
       " 'absolutely': 716,\n",
       " 'does': 5990,\n",
       " 'money': 12444,\n",
       " 'all': 1129,\n",
       " 'invested': 10254,\n",
       " '140': 99,\n",
       " 'wish': 21098,\n",
       " 'advice': 948,\n",
       " 'anyone': 1385,\n",
       " 'struck': 18364,\n",
       " 'by': 3114,\n",
       " 'lightning': 11262,\n",
       " 'powerful': 14507,\n",
       " 'battle': 2123,\n",
       " 'robot': 16117,\n",
       " 'achieves': 801,\n",
       " 'consciousness': 4412,\n",
       " 'escapes': 6853,\n",
       " 'creator': 4832,\n",
       " 'pursued': 14991,\n",
       " 'military': 12228,\n",
       " 'number': 13101,\n",
       " 'called': 3172,\n",
       " 'befriended': 2215,\n",
       " 'sweet': 18710,\n",
       " 'natured': 12764,\n",
       " 'animal': 1314,\n",
       " 'loving': 11537,\n",
       " 'numbskull': 13106,\n",
       " 'ally': 1158,\n",
       " 'sheedy': 17020,\n",
       " 'reclusive': 15396,\n",
       " 'inventor': 10250,\n",
       " 'steve': 18173,\n",
       " 'guttenberg': 8806,\n",
       " 'an': 1260,\n",
       " 'offensive': 13216,\n",
       " 'east': 6389,\n",
       " 'indian': 9894,\n",
       " 'stereotype': 18167,\n",
       " 'fisher': 7596,\n",
       " 'stevens': 18175,\n",
       " 'unlike': 20101,\n",
       " 'reviewers': 15961,\n",
       " 'page': 13620,\n",
       " 'found': 7913,\n",
       " 'dull': 6268,\n",
       " 'numbers': 13103,\n",
       " 'production': 14734,\n",
       " 'clunky': 4006,\n",
       " 'unappealing': 19930,\n",
       " 'center': 3484,\n",
       " 'filled': 7502,\n",
       " 'stock': 18217,\n",
       " 'characters': 3570,\n",
       " 'do': 5969,\n",
       " 'exactly': 6972,\n",
       " 'million': 12233,\n",
       " 'before': 2213,\n",
       " 'boo': 2630,\n",
       " 'shocked': 17079,\n",
       " 'screenwriters': 16658,\n",
       " 'brent': 2842,\n",
       " 'maddock': 11665,\n",
       " 'wilson': 21031,\n",
       " 'same': 16426,\n",
       " 'people': 13914,\n",
       " 'who': 20955,\n",
       " 'go': 8455,\n",
       " 'write': 21267,\n",
       " 'classic': 3880,\n",
       " 'tremors': 19701,\n",
       " 'obviously': 13176,\n",
       " 'improved': 9807,\n",
       " 'over': 13502,\n",
       " 'time': 19335,\n",
       " 'dvd': 6321,\n",
       " 'mostly': 12527,\n",
       " 'interesting': 10161,\n",
       " 'documentary': 5982,\n",
       " 'history': 9321,\n",
       " 'art': 1555,\n",
       " 'us': 20250,\n",
       " 'interest': 10159,\n",
       " 'video': 20465,\n",
       " 'cover': 4736,\n",
       " 'myself': 12683,\n",
       " 'mood': 12474,\n",
       " 'excellent': 6988,\n",
       " 'love': 11527,\n",
       " 'watched': 20744,\n",
       " 'actors': 834,\n",
       " 'better': 2333,\n",
       " 'director': 5742,\n",
       " 'hope': 9433,\n",
       " 'script': 16668,\n",
       " 'action': 823,\n",
       " 'story': 18253,\n",
       " 'horror': 9460,\n",
       " 'definitely': 5349,\n",
       " 'any': 1382,\n",
       " 'fans': 7272,\n",
       " 'came': 3186,\n",
       " 'mail': 11713,\n",
       " 'days': 5200,\n",
       " 'quality': 15031,\n",
       " 'ring': 16043,\n",
       " 'brushed': 2946,\n",
       " 'tungsten': 19827,\n",
       " 'darker': 5146,\n",
       " 'product': 14732,\n",
       " 'photo': 14058,\n",
       " 'shows': 17140,\n",
       " 'still': 18196,\n",
       " 'attractive': 1730,\n",
       " 'fiance': 7456,\n",
       " 'wedding': 20819,\n",
       " 'since': 17253,\n",
       " 'budget': 2976,\n",
       " 'material': 11930,\n",
       " 'content': 4480,\n",
       " 'purchase': 14967,\n",
       " 'finger': 7543,\n",
       " 'fitted': 7606,\n",
       " '14': 98,\n",
       " 'jewelry': 10476,\n",
       " 'stores': 18247,\n",
       " 'even': 6927,\n",
       " 'had': 8833,\n",
       " 'chance': 3544,\n",
       " 'handle': 8910,\n",
       " 'rings': 16044,\n",
       " 'find': 7532,\n",
       " 'perfect': 13934,\n",
       " 'fit': 7602,\n",
       " 'seemed': 16766,\n",
       " 'job': 10503,\n",
       " 'tad': 18822,\n",
       " 'bigger': 2367,\n",
       " 'suggest': 18520,\n",
       " 'down': 6089,\n",
       " 'ensure': 6736,\n",
       " 'summer': 18541,\n",
       " 'here': 9211,\n",
       " 'ohio': 13239,\n",
       " 'our': 13438,\n",
       " 'fingers': 7548,\n",
       " 'swell': 18716,\n",
       " 'warmer': 20695,\n",
       " 'weather': 20805,\n",
       " 'secure': 16748,\n",
       " 'fall': 7245,\n",
       " 'now': 13077,\n",
       " 'soon': 17692,\n",
       " 'winter': 21077,\n",
       " 'arrive': 1546,\n",
       " '13': 86,\n",
       " 'couple': 4711,\n",
       " 'months': 12472,\n",
       " 'colder': 4079,\n",
       " 'okay': 13248,\n",
       " 'however': 9505,\n",
       " 'only': 13288,\n",
       " 'cost': 4666,\n",
       " 'low': 11538,\n",
       " '24': 280,\n",
       " 'won': 21148,\n",
       " 'issue': 10340,\n",
       " 'review': 15958,\n",
       " 'helps': 9190,\n",
       " 'someone': 17670,\n",
       " 'their': 19129,\n",
       " 'decision': 5276,\n",
       " 'making': 11740,\n",
       " 'were': 20868,\n",
       " 'specifically': 17811,\n",
       " 'talking': 18851,\n",
       " 'offness': 13229,\n",
       " 'confirmation': 4371,\n",
       " 'correct': 4639,\n",
       " 'half': 8855,\n",
       " 'smaller': 17487,\n",
       " 'match': 11923,\n",
       " 'true': 19776,\n",
       " 'god': 8463,\n",
       " 'bless': 2495,\n",
       " 'peace': 13843,\n",
       " 'upon': 20224,\n",
       " 'humbly': 9557,\n",
       " 'ask': 1591,\n",
       " 'your': 21399,\n",
       " 'prayers': 14534,\n",
       " 'entering': 6740,\n",
       " 'holy': 9383,\n",
       " 'matrimony': 11939,\n",
       " 'more': 12495,\n",
       " 'peaceful': 13844,\n",
       " 'marriage': 11869,\n",
       " 'life': 11236,\n",
       " 'longevity': 11458,\n",
       " 'happiness': 8949,\n",
       " 'gave': 8230,\n",
       " 'stars': 18089,\n",
       " 'due': 6260,\n",
       " 'fact': 7204,\n",
       " 'picture': 14097,\n",
       " 'differ': 5670,\n",
       " 'dreamaway': 6161,\n",
       " 'comfort': 4159,\n",
       " 'fill': 7501,\n",
       " 'mattress': 11949,\n",
       " 'protector': 14850,\n",
       " 'while': 20917,\n",
       " 'then': 19138,\n",
       " 'problems': 14713,\n",
       " 'arose': 1532,\n",
       " 'first': 7592,\n",
       " 'compressed': 4289,\n",
       " 'created': 4823,\n",
       " 'shallow': 16951,\n",
       " 'dip': 5730,\n",
       " 'next': 12896,\n",
       " 'top': 19477,\n",
       " 'pilled': 14122,\n",
       " 'much': 12600,\n",
       " 'pilling': 14123,\n",
       " 'became': 2182,\n",
       " 'excessive': 7002,\n",
       " 'lacey': 10909,\n",
       " 'terrible': 19058,\n",
       " 'guys': 8809,\n",
       " 'decided': 5270,\n",
       " 'quit': 15073,\n",
       " 'her': 9208,\n",
       " 'she': 17008,\n",
       " 'starting': 18096,\n",
       " 'new': 12879,\n",
       " 'friend': 8005,\n",
       " 'danielle': 5134,\n",
       " 'head': 9082,\n",
       " 'sports': 17931,\n",
       " 'marketing': 11859,\n",
       " 'company': 4212,\n",
       " 'working': 21191,\n",
       " 'bit': 2424,\n",
       " 'dom': 6021,\n",
       " 'doesn': 5991,\n",
       " 'give': 8384,\n",
       " 'woman': 21141,\n",
       " 'attracted': 1727,\n",
       " 'lusting': 11610,\n",
       " 'him': 9284,\n",
       " 'child': 3691,\n",
       " 'didn': 5653,\n",
       " 'meets': 12052,\n",
       " 'ben': 2281,\n",
       " 'teens': 18984,\n",
       " 'wants': 20683,\n",
       " 'sex': 16913,\n",
       " 'willing': 21026,\n",
       " 'goes': 8470,\n",
       " 'home': 9386,\n",
       " 'parents': 13728,\n",
       " 'bed': 2192,\n",
       " 'together': 19410,\n",
       " 'act': 819,\n",
       " 'afraid': 984,\n",
       " 'guy': 8808,\n",
       " 'having': 9048,\n",
       " 'sturdy': 18418,\n",
       " 'note': 13040,\n",
       " 'wide': 20980,\n",
       " 'opening': 13305,\n",
       " 'full': 8066,\n",
       " 'sized': 17305,\n",
       " 'bags': 1974,\n",
       " 'set': 16888,\n",
       " 'limit': 11295,\n",
       " 'instructions': 10095,\n",
       " 'difficult': 5678,\n",
       " 'follow': 7790,\n",
       " 'also': 1174,\n",
       " 'confusing': 4385,\n",
       " 'start': 18091,\n",
       " 'look': 11464,\n",
       " 'clock': 3959,\n",
       " 'accurate': 791,\n",
       " 'guess': 8763,\n",
       " 'eventually': 6938,\n",
       " 'misleading': 12325,\n",
       " 'important': 9785,\n",
       " 'frustrating': 8046,\n",
       " 'computer': 4296,\n",
       " 'nostalgia': 13031,\n",
       " 'unit': 20084,\n",
       " 'clips': 3955,\n",
       " 'style': 18420,\n",
       " 'web': 20810,\n",
       " 'belt': 2277,\n",
       " 'jwhat': 10627,\n",
       " 'else': 6570,\n",
       " 'add': 860,\n",
       " 'water': 20748,\n",
       " 'series': 16866,\n",
       " 'above': 704,\n",
       " 'average': 1799,\n",
       " 'technical': 18962,\n",
       " 'completely': 4258,\n",
       " 'ravaged': 15249,\n",
       " 'disaster': 5776,\n",
       " 'limited': 11298,\n",
       " 'humans': 9554,\n",
       " 'left': 11117,\n",
       " 'those': 19217,\n",
       " 'protected': 14845,\n",
       " 'domed': 6024,\n",
       " 'cities': 3843,\n",
       " 'devastating': 5578,\n",
       " 'radiation': 15123,\n",
       " 'suddenly': 18501,\n",
       " 'these': 19161,\n",
       " 'domes': 6025,\n",
       " 'failing': 7223,\n",
       " 'fail': 7221,\n",
       " 'person': 13979,\n",
       " 'save': 16508,\n",
       " 'them': 19132,\n",
       " 'eve': 6925,\n",
       " 'doesnt': 5992,\n",
       " 'holds': 9364,\n",
       " 'secret': 16739,\n",
       " 'saving': 16514,\n",
       " 'human': 9549,\n",
       " 'race': 15104,\n",
       " 'apocalypse': 1401,\n",
       " 'evolution': 6960,\n",
       " 'science': 16605,\n",
       " 'fiction': 7464,\n",
       " 'apocalyptic': 1402,\n",
       " 'touch': 19532,\n",
       " 'unbelievable': 19944,\n",
       " 'parts': 13763,\n",
       " 'totally': 19525,\n",
       " 'could': 4681,\n",
       " 'happen': 8942,\n",
       " 'certain': 3500,\n",
       " 'circumstances': 3839,\n",
       " 'bryces': 2955,\n",
       " 'writing': 21271,\n",
       " 'tight': 19306,\n",
       " 'point': 14325,\n",
       " 'wasn': 20731,\n",
       " 'wasted': 20736,\n",
       " 'short': 17102,\n",
       " 'comes': 4156,\n",
       " 'slight': 17425,\n",
       " 'fault': 7336,\n",
       " 'though': 19219,\n",
       " 'backstory': 1950,\n",
       " 'basically': 2086,\n",
       " 'borrowed': 2690,\n",
       " 'being': 2242,\n",
       " 'hunted': 9583,\n",
       " 'why': 20969,\n",
       " 'character': 3566,\n",
       " 'catapult': 3403,\n",
       " 'range': 15194,\n",
       " 'im': 9717,\n",
       " 'fits': 7605,\n",
       " 'helmet': 9181,\n",
       " 'either': 6502,\n",
       " 'slide': 17419,\n",
       " 'work': 21184,\n",
       " 'playing': 14238,\n",
       " 'each': 6348,\n",
       " 'less': 11174,\n",
       " 'ten': 19023,\n",
       " 'minutes': 12297,\n",
       " 'super': 18566,\n",
       " 'annoying': 1338,\n",
       " 'constantly': 4444,\n",
       " 'noises': 12982,\n",
       " 'kids': 10743,\n",
       " 'played': 14233,\n",
       " 'put': 15001,\n",
       " 'sleep': 17394,\n",
       " 'second': 16734,\n",
       " 'yee': 21358,\n",
       " 'mask': 11898,\n",
       " 'wake': 20646,\n",
       " 'anymore': 1384,\n",
       " 'changed': 3552,\n",
       " 'sets': 16890,\n",
       " 'batteries': 2120,\n",
       " 'returned': 15934,\n",
       " 'flick': 7684,\n",
       " 'day': 5193,\n",
       " 'charlton': 3590,\n",
       " 'heston': 9234,\n",
       " 'am': 1198,\n",
       " 'pleased': 14252,\n",
       " 'fantastic': 7277,\n",
       " 'couldn': 4682,\n",
       " 'must': 12658,\n",
       " 'book': 2636,\n",
       " 'last': 10993,\n",
       " 'enjoyed': 6720,\n",
       " 'well': 20855,\n",
       " 'written': 21273,\n",
       " 'developed': 5580,\n",
       " 'forward': 7902,\n",
       " 'reading': 15294,\n",
       " 'author': 1767,\n",
       " 'message': 12137,\n",
       " 'always': 1194,\n",
       " 'friends': 8008,\n",
       " 'paler': 13654,\n",
       " 'different': 5673,\n",
       " 'shade': 16931,\n",
       " 'light': 11250,\n",
       " 'grey': 8666,\n",
       " 'call': 3168,\n",
       " 'pale': 13652,\n",
       " 'lavender': 11038,\n",
       " '100': 24,\n",
       " 'polyester': 14368,\n",
       " 'package': 13602,\n",
       " 'carefully': 3306,\n",
       " 'imply': 9782,\n",
       " 'egyptian': 6487,\n",
       " 'cotton': 4678,\n",
       " 'lower': 11539,\n",
       " 'states': 18108,\n",
       " 'microfiber': 12190,\n",
       " 'information': 9973,\n",
       " 're': 15273,\n",
       " 'ok': 13247,\n",
       " 'paid': 13624,\n",
       " 'preferred': 14569,\n",
       " 'clearly': 3907,\n",
       " 'stated': 18105,\n",
       " 'wrinkles': 21261,\n",
       " 'initial': 10001,\n",
       " 'laundering': 11027,\n",
       " 'original': 13388,\n",
       " 'shipping': 17070,\n",
       " 'present': 14605,\n",
       " 'washing': 20728,\n",
       " 'removed': 15687,\n",
       " 'dryer': 6236,\n",
       " 'promptly': 14795,\n",
       " 'definetly': 5346,\n",
       " 'best': 2320,\n",
       " 'photographer': 14061,\n",
       " 'portrait': 14432,\n",
       " 'results': 15893,\n",
       " 'both': 2701,\n",
       " 'nikon': 12944,\n",
       " 'canon': 3247,\n",
       " 'cameras': 3195,\n",
       " 'shots': 17119,\n",
       " 'photos': 14068,\n",
       " 'taken': 18836,\n",
       " 'continue': 4489,\n",
       " 'return': 15932,\n",
       " 'defective': 5328,\n",
       " 'able': 696,\n",
       " 'board': 2572,\n",
       " 'pc': 13835,\n",
       " 'reinstall': 15580,\n",
       " 'software': 17636,\n",
       " 'disappointed': 5767,\n",
       " 'used': 20260,\n",
       " 'fine': 7537,\n",
       " 'replace': 15734,\n",
       " 'old': 13251,\n",
       " 'sony': 17689,\n",
       " 'dsl': 6242,\n",
       " 'woodsman': 21168,\n",
       " 'wolf': 21136,\n",
       " 'steamy': 18137,\n",
       " 'lily': 11288,\n",
       " 'sassy': 16480,\n",
       " 'girl': 8374,\n",
       " 'mouth': 12565,\n",
       " 'shocks': 17083,\n",
       " 'hero': 9216,\n",
       " 'belle': 2268,\n",
       " 'scarlett': 16560,\n",
       " 'narrators': 12742,\n",
       " 'wonderful': 21153,\n",
       " 'looking': 11467,\n",
       " 'checking': 3628,\n",
       " 'voluntarily': 20582,\n",
       " 'provided': 14868,\n",
       " 'copy': 4602,\n",
       " 'audio': 1745,\n",
       " 'request': 15781,\n",
       " 'charge': 3576,\n",
       " 'publisher': 14913,\n",
       " 'narrator': 12741,\n",
       " 'did': 5650,\n",
       " 'impact': 9759,\n",
       " 'ms': 12593,\n",
       " 'wylde': 21297,\n",
       " 'installment': 10078,\n",
       " 'fairweather': 7235,\n",
       " 'sisters': 17281,\n",
       " 'especially': 6860,\n",
       " 'george': 8299,\n",
       " 'lord': 11492,\n",
       " 'elmer': 6563,\n",
       " 'antics': 1372,\n",
       " 'laces': 10908,\n",
       " 'humor': 9565,\n",
       " 'genre': 8284,\n",
       " 'manages': 11776,\n",
       " 'explain': 7090,\n",
       " 'difference': 5671,\n",
       " 'between': 2336,\n",
       " 'infatuation': 9943,\n",
       " 'celine': 3471,\n",
       " 'amy': 1259,\n",
       " 'clouds': 3990,\n",
       " 'blinded': 2503,\n",
       " 'loved': 11529,\n",
       " 'hideous': 9251,\n",
       " 'poems': 14319,\n",
       " 'fought': 7910,\n",
       " 'sense': 16817,\n",
       " 'liked': 11271,\n",
       " 'places': 14191,\n",
       " 'duchess': 6252,\n",
       " 'birth': 2414,\n",
       " 'penelope': 13898,\n",
       " 'pull': 14933,\n",
       " 'brushes': 2947,\n",
       " 'danger': 5125,\n",
       " 'manage': 11770,\n",
       " 'unscathed': 20162,\n",
       " 'novel': 13068,\n",
       " 'fun': 8071,\n",
       " 'scenes': 16575,\n",
       " 'hilarious': 9276,\n",
       " 'literally': 11356,\n",
       " 'laughed': 11018,\n",
       " 'loud': 11515,\n",
       " 'power': 14505,\n",
       " 'compression': 4291,\n",
       " 'socks': 17624,\n",
       " 'knee': 10810,\n",
       " 'tend': 19025,\n",
       " 'stretch': 18325,\n",
       " 'wet': 20880,\n",
       " 'sweat': 18699,\n",
       " 'ankle': 1321,\n",
       " 'sci': 16603,\n",
       " 'fi': 7454,\n",
       " 'thoroughly': 19214,\n",
       " 'enjoy': 6718,\n",
       " 'divergent': 5937,\n",
       " 'four': 7920,\n",
       " 'gives': 8388,\n",
       " 'detailed': 5547,\n",
       " 'complex': 4262,\n",
       " 'extending': 7140,\n",
       " 'pleasure': 14256,\n",
       " 'pages': 13622,\n",
       " 'extremely': 7164,\n",
       " 'purchased': 14968,\n",
       " 'rabbit': 15100,\n",
       " 'expecting': 7065,\n",
       " 'coke': 4075,\n",
       " 'pencil': 13894,\n",
       " 'kaytee': 10663,\n",
       " 'mice': 12177,\n",
       " 'hamsters': 8892,\n",
       " 'guinea': 8781,\n",
       " 'pig': 14107,\n",
       " 'effects': 6470,\n",
       " 'decent': 5265,\n",
       " 'acting': 821,\n",
       " 'young': 21393,\n",
       " 'long': 11455,\n",
       " 'toddler': 19403,\n",
       " 'toy': 19563,\n",
       " 'pieces': 14103,\n",
       " 'container': 4470,\n",
       " 'larger': 10982,\n",
       " 'version': 20419,\n",
       " 'game': 8171,\n",
       " '99': 644,\n",
       " 'free': 7971,\n",
       " 'item': 10349,\n",
       " 'returning': 15935,\n",
       " 'niece': 12921,\n",
       " 'christmas': 3773,\n",
       " 'heard': 9118,\n",
       " 'doggies': 6000,\n",
       " 'teeth': 18989,\n",
       " 'tarter': 18898,\n",
       " 'dogs': 6003,\n",
       " 'hate': 9021,\n",
       " 'worse': 21213,\n",
       " 'thing': 19185,\n",
       " 'ever': 6939,\n",
       " 'mouths': 12570,\n",
       " 'glorias': 8427,\n",
       " 'revenge': 15951,\n",
       " 'tells': 19005,\n",
       " 'erotic': 6835,\n",
       " 'gloria': 8426,\n",
       " 'self': 16792,\n",
       " 'lingerie': 11315,\n",
       " 'magnate': 11686,\n",
       " 'business': 3081,\n",
       " 'losing': 11503,\n",
       " 'heart': 9121,\n",
       " 'meet': 12050,\n",
       " 'beautiful': 2177,\n",
       " 'assertive': 1618,\n",
       " 'leaving': 11102,\n",
       " 'troubled': 19766,\n",
       " 'teenager': 18982,\n",
       " 'kevin': 10710,\n",
       " 'moved': 12574,\n",
       " 'apple': 1430,\n",
       " 'began': 2218,\n",
       " 'night': 12929,\n",
       " 'finally': 7528,\n",
       " 'semblance': 16801,\n",
       " 'normal': 13014,\n",
       " 'meager': 12000,\n",
       " 'wages': 20630,\n",
       " 'proved': 14864,\n",
       " 'useless': 20263,\n",
       " 'pursuit': 14992,\n",
       " 'dreams': 6166,\n",
       " 'tandem': 18866,\n",
       " 'simultaneously': 17250,\n",
       " 'dreamed': 6162,\n",
       " 'nightmare': 12936,\n",
       " 'cant': 3250,\n",
       " 'runaway': 16308,\n",
       " 'stop': 18238,\n",
       " 'trying': 19793,\n",
       " 'hightail': 9269,\n",
       " 'across': 818,\n",
       " 'country': 4705,\n",
       " 'where': 20907,\n",
       " 'passion': 13774,\n",
       " 'savvy': 16520,\n",
       " 'ways': 20776,\n",
       " 'propels': 14813,\n",
       " 'unfathomable': 20038,\n",
       " 'success': 18481,\n",
       " 'decides': 5272,\n",
       " 'expand': 7052,\n",
       " 'companys': 4213,\n",
       " 'inventory': 10251,\n",
       " 'toys': 19566,\n",
       " 'products': 14736,\n",
       " 'seeks': 16764,\n",
       " 'advertising': 946,\n",
       " 'agency': 1006,\n",
       " 'represent': 15763,\n",
       " 'enters': 6742,\n",
       " 'jaime': 10391,\n",
       " 'zander': 21428,\n",
       " 'tall': 18853,\n",
       " 'dark': 5144,\n",
       " 'sexy': 16922,\n",
       " 'rich': 16006,\n",
       " 'agent': 1008,\n",
       " 'intention': 10140,\n",
       " 'winning': 21070,\n",
       " 'account': 781,\n",
       " 'moment': 12434,\n",
       " 'finds': 7536,\n",
       " 'whirl': 20933,\n",
       " 'spinning': 17878,\n",
       " 'topsyturvy': 19493,\n",
       " 'involved': 10270,\n",
       " 'convolution': 4553,\n",
       " 'sexually': 16921,\n",
       " 'harassing': 8953,\n",
       " 'chairman': 3526,\n",
       " 'his': 9309,\n",
       " 'retchet': 15906,\n",
       " 'daughter': 5176,\n",
       " 'cupcake': 4986,\n",
       " 'stand': 18063,\n",
       " 'wonderfully': 21154,\n",
       " 'll': 11388,\n",
       " 'need': 12809,\n",
       " 'update': 20210,\n",
       " 'perfectly': 13938,\n",
       " 'anything': 1386,\n",
       " 'giving': 8389,\n",
       " 'got': 8539,\n",
       " 'orange': 13354,\n",
       " 'instead': 10087,\n",
       " 'blue': 2550,\n",
       " 'rattley': 15244,\n",
       " 'almost': 1159,\n",
       " 'whales': 20890,\n",
       " 'cute': 5038,\n",
       " 'design': 5505,\n",
       " 'feature': 7369,\n",
       " 'overall': 13504,\n",
       " 'recommended': 15414,\n",
       " 'own': 13564,\n",
       " 'part': 13741,\n",
       " 'music': 12650,\n",
       " 'studio': 18387,\n",
       " 'instruments': 10101,\n",
       " 'building': 2997,\n",
       " 'collection': 4098,\n",
       " 'mainly': 11720,\n",
       " 'hohner': 9356,\n",
       " 'twist': 19875,\n",
       " 'slow': 17468,\n",
       " 'mystery': 12687,\n",
       " 'imagine': 9726,\n",
       " 'mixer': 12367,\n",
       " 'blew': 2500,\n",
       " 'opened': 13302,\n",
       " 'lid': 11229,\n",
       " 'bonus': 2627,\n",
       " 'tired': 19371,\n",
       " 'plastic': 14214,\n",
       " 'mess': 12136,\n",
       " 'pain': 13627,\n",
       " 'broken': 2910,\n",
       " 'machine': 11648,\n",
       " 'ago': 1016,\n",
       " 'wanted': 20681,\n",
       " 'something': 17672,\n",
       " 'tripod': 19744,\n",
       " 'knew': 10813,\n",
       " 'inch': 9833,\n",
       " 'steel': 18139,\n",
       " 'gas': 8208,\n",
       " 'pipe': 14149,\n",
       " 'feet': 7396,\n",
       " 'length': 11149,\n",
       " '20': 226,\n",
       " 'lowes': 11542,\n",
       " 'legs': 11137,\n",
       " 'run': 16307,\n",
       " 'puppy': 14962,\n",
       " 'outgrew': 13462,\n",
       " 'month': 12471,\n",
       " 'sun': 18544,\n",
       " 'tzu': 19896,\n",
       " 'lessons': 11177,\n",
       " 'timeless': 19338,\n",
       " 'universally': 20089,\n",
       " 'applicable': 1434,\n",
       " 'extraordinary': 7158,\n",
       " 'women': 21146,\n",
       " 'prayer': 14533,\n",
       " 'actress': 835,\n",
       " 'angst': 1310,\n",
       " 'paranormal': 13715,\n",
       " 'stories': 18249,\n",
       " 'hens': 9204,\n",
       " 'warmed': 20694,\n",
       " 'yet': 21372,\n",
       " 'easy': 6394,\n",
       " 'quick': 15055,\n",
       " 'lots': 11510,\n",
       " 'suspense': 18663,\n",
       " ...}"
      ]
     },
     "execution_count": 159,
     "metadata": {},
     "output_type": "execute_result"
    }
   ],
   "source": [
    "review1.vocabulary_"
   ]
  },
  {
   "cell_type": "code",
   "execution_count": 160,
   "id": "253d3433",
   "metadata": {},
   "outputs": [
    {
     "data": {
      "text/plain": [
       "array(['00', '000', '0005', ..., 'zune', 'zuppies', 'zymox'], dtype=object)"
      ]
     },
     "execution_count": 160,
     "metadata": {},
     "output_type": "execute_result"
    }
   ],
   "source": [
    "review1.get_feature_names_out()"
   ]
  },
  {
   "cell_type": "code",
   "execution_count": 161,
   "id": "b9b74d15",
   "metadata": {},
   "outputs": [],
   "source": [
    "#Logistic Regression classification"
   ]
  },
  {
   "cell_type": "code",
   "execution_count": 162,
   "id": "1bc68f71",
   "metadata": {},
   "outputs": [],
   "source": [
    "#Correction code from chatgpt to address the problem of missing value in y_train, eventhough before that we already do the dropna solution"
   ]
  },
  {
   "cell_type": "code",
   "execution_count": 163,
   "id": "ec721682",
   "metadata": {},
   "outputs": [
    {
     "name": "stderr",
     "output_type": "stream",
     "text": [
      "C:\\Users\\UserA\\anaconda3\\Lib\\site-packages\\sklearn\\linear_model\\_logistic.py:460: ConvergenceWarning: lbfgs failed to converge (status=1):\n",
      "STOP: TOTAL NO. of ITERATIONS REACHED LIMIT.\n",
      "\n",
      "Increase the number of iterations (max_iter) or scale the data as shown in:\n",
      "    https://scikit-learn.org/stable/modules/preprocessing.html\n",
      "Please also refer to the documentation for alternative solver options:\n",
      "    https://scikit-learn.org/stable/modules/linear_model.html#logistic-regression\n",
      "  n_iter_i = _check_optimize_result(\n"
     ]
    },
    {
     "data": {
      "text/html": [
       "<style>#sk-container-id-2 {color: black;}#sk-container-id-2 pre{padding: 0;}#sk-container-id-2 div.sk-toggleable {background-color: white;}#sk-container-id-2 label.sk-toggleable__label {cursor: pointer;display: block;width: 100%;margin-bottom: 0;padding: 0.3em;box-sizing: border-box;text-align: center;}#sk-container-id-2 label.sk-toggleable__label-arrow:before {content: \"▸\";float: left;margin-right: 0.25em;color: #696969;}#sk-container-id-2 label.sk-toggleable__label-arrow:hover:before {color: black;}#sk-container-id-2 div.sk-estimator:hover label.sk-toggleable__label-arrow:before {color: black;}#sk-container-id-2 div.sk-toggleable__content {max-height: 0;max-width: 0;overflow: hidden;text-align: left;background-color: #f0f8ff;}#sk-container-id-2 div.sk-toggleable__content pre {margin: 0.2em;color: black;border-radius: 0.25em;background-color: #f0f8ff;}#sk-container-id-2 input.sk-toggleable__control:checked~div.sk-toggleable__content {max-height: 200px;max-width: 100%;overflow: auto;}#sk-container-id-2 input.sk-toggleable__control:checked~label.sk-toggleable__label-arrow:before {content: \"▾\";}#sk-container-id-2 div.sk-estimator input.sk-toggleable__control:checked~label.sk-toggleable__label {background-color: #d4ebff;}#sk-container-id-2 div.sk-label input.sk-toggleable__control:checked~label.sk-toggleable__label {background-color: #d4ebff;}#sk-container-id-2 input.sk-hidden--visually {border: 0;clip: rect(1px 1px 1px 1px);clip: rect(1px, 1px, 1px, 1px);height: 1px;margin: -1px;overflow: hidden;padding: 0;position: absolute;width: 1px;}#sk-container-id-2 div.sk-estimator {font-family: monospace;background-color: #f0f8ff;border: 1px dotted black;border-radius: 0.25em;box-sizing: border-box;margin-bottom: 0.5em;}#sk-container-id-2 div.sk-estimator:hover {background-color: #d4ebff;}#sk-container-id-2 div.sk-parallel-item::after {content: \"\";width: 100%;border-bottom: 1px solid gray;flex-grow: 1;}#sk-container-id-2 div.sk-label:hover label.sk-toggleable__label {background-color: #d4ebff;}#sk-container-id-2 div.sk-serial::before {content: \"\";position: absolute;border-left: 1px solid gray;box-sizing: border-box;top: 0;bottom: 0;left: 50%;z-index: 0;}#sk-container-id-2 div.sk-serial {display: flex;flex-direction: column;align-items: center;background-color: white;padding-right: 0.2em;padding-left: 0.2em;position: relative;}#sk-container-id-2 div.sk-item {position: relative;z-index: 1;}#sk-container-id-2 div.sk-parallel {display: flex;align-items: stretch;justify-content: center;background-color: white;position: relative;}#sk-container-id-2 div.sk-item::before, #sk-container-id-2 div.sk-parallel-item::before {content: \"\";position: absolute;border-left: 1px solid gray;box-sizing: border-box;top: 0;bottom: 0;left: 50%;z-index: -1;}#sk-container-id-2 div.sk-parallel-item {display: flex;flex-direction: column;z-index: 1;position: relative;background-color: white;}#sk-container-id-2 div.sk-parallel-item:first-child::after {align-self: flex-end;width: 50%;}#sk-container-id-2 div.sk-parallel-item:last-child::after {align-self: flex-start;width: 50%;}#sk-container-id-2 div.sk-parallel-item:only-child::after {width: 0;}#sk-container-id-2 div.sk-dashed-wrapped {border: 1px dashed gray;margin: 0 0.4em 0.5em 0.4em;box-sizing: border-box;padding-bottom: 0.4em;background-color: white;}#sk-container-id-2 div.sk-label label {font-family: monospace;font-weight: bold;display: inline-block;line-height: 1.2em;}#sk-container-id-2 div.sk-label-container {text-align: center;}#sk-container-id-2 div.sk-container {/* jupyter's `normalize.less` sets `[hidden] { display: none; }` but bootstrap.min.css set `[hidden] { display: none !important; }` so we also need the `!important` here to be able to override the default hidden behavior on the sphinx rendered scikit-learn.org. See: https://github.com/scikit-learn/scikit-learn/issues/21755 */display: inline-block !important;position: relative;}#sk-container-id-2 div.sk-text-repr-fallback {display: none;}</style><div id=\"sk-container-id-2\" class=\"sk-top-container\"><div class=\"sk-text-repr-fallback\"><pre>LogisticRegression()</pre><b>In a Jupyter environment, please rerun this cell to show the HTML representation or trust the notebook. <br />On GitHub, the HTML representation is unable to render, please try loading this page with nbviewer.org.</b></div><div class=\"sk-container\" hidden><div class=\"sk-item\"><div class=\"sk-estimator sk-toggleable\"><input class=\"sk-toggleable__control sk-hidden--visually\" id=\"sk-estimator-id-2\" type=\"checkbox\" checked><label for=\"sk-estimator-id-2\" class=\"sk-toggleable__label sk-toggleable__label-arrow\">LogisticRegression</label><div class=\"sk-toggleable__content\"><pre>LogisticRegression()</pre></div></div></div></div></div>"
      ],
      "text/plain": [
       "LogisticRegression()"
      ]
     },
     "execution_count": 163,
     "metadata": {},
     "output_type": "execute_result"
    }
   ],
   "source": [
    "from sklearn.linear_model import LogisticRegression\n",
    "\n",
    "# Train the model\n",
    "model = LogisticRegression()\n",
    "model.fit(X_train_vectorized1, y_train)\n",
    "\n",
    "#x_train\n",
    "#vectors (unique tokens)"
   ]
  },
  {
   "cell_type": "code",
   "execution_count": 164,
   "id": "113fd0f5",
   "metadata": {},
   "outputs": [
    {
     "name": "stdout",
     "output_type": "stream",
     "text": [
      "AUC:  0.7528538949033989\n"
     ]
    }
   ],
   "source": [
    "from sklearn.metrics import roc_auc_score\n",
    "\n",
    "# Predict the transformed test documents\n",
    "predictions = model.predict(review1.transform(X_test))\n",
    "y_proba = model.predict_proba(review1.transform(X_test))\n",
    "                              \n",
    "print('AUC: ', roc_auc_score(y_test, y_proba[:,1]))       "
   ]
  },
  {
   "cell_type": "code",
   "execution_count": 165,
   "id": "16d2fd26",
   "metadata": {},
   "outputs": [
    {
     "data": {
      "text/plain": [
       "array([[-0.19735737, -0.14820712, -0.06195933, ...,  0.06170924,\n",
       "         0.0427091 ,  0.02035531]])"
      ]
     },
     "execution_count": 165,
     "metadata": {},
     "output_type": "execute_result"
    }
   ],
   "source": [
    "model.coef_"
   ]
  },
  {
   "cell_type": "code",
   "execution_count": 166,
   "id": "33448d96",
   "metadata": {},
   "outputs": [
    {
     "data": {
      "text/plain": [
       "array([19058, 20735, 14581, ..., 17675, 16922, 12558], dtype=int64)"
      ]
     },
     "execution_count": 166,
     "metadata": {},
     "output_type": "execute_result"
    }
   ],
   "source": [
    "model.coef_[0].argsort()"
   ]
  },
  {
   "cell_type": "code",
   "execution_count": 167,
   "id": "2fc61545",
   "metadata": {},
   "outputs": [
    {
     "name": "stdout",
     "output_type": "stream",
     "text": [
      "Smallest Coefs:\n",
      "['terrible' 'waste' 'premise' 'returned' 'poorly' 'hopes' 'rice'\n",
      " 'horrible' 'hate' 'awkward']\n",
      "\n",
      " Largest Coefs:\n",
      "['mounted' 'sexy' 'sometimes' 'purposes' 'complaints' 'happening'\n",
      " 'lighter' 'pace' 'complaint' 'exactly']\n"
     ]
    }
   ],
   "source": [
    "# get the feature names as numpy array\n",
    "feature_names_out = np.array(review1.get_feature_names_out())\n",
    "\n",
    "# Sort the coefficients from the model\n",
    "sorted_coef_index = model.coef_[0].argsort()\n",
    "\n",
    "# Find the 10 smallest and 10 largest coefficients\n",
    "print('Smallest Coefs:' )\n",
    "print(feature_names_out[sorted_coef_index[:10]])\n",
    "      \n",
    "print('\\n Largest Coefs:')      \n",
    "print(feature_names_out[sorted_coef_index[:-11:-1]])"
   ]
  },
  {
   "cell_type": "markdown",
   "id": "8d96bdb6",
   "metadata": {},
   "source": [
    "# Tfidf   \n",
    "using stopword for searching: Accuracies"
   ]
  },
  {
   "cell_type": "code",
   "execution_count": 168,
   "id": "7968e365",
   "metadata": {},
   "outputs": [],
   "source": [
    "from sklearn.feature_extraction.text import TfidfVectorizer\n",
    "\n",
    "\n",
    "docs = np.array([\n",
    "    'Delivery was exactly as expected',\n",
    "    'Way too heavy for everyday use',\n",
    "    'Great quality, beautiful color'])\n",
    "\n",
    "vect2 = TfidfVectorizer().fit(docs)\n",
    "bag2 = vect2.transform(docs)"
   ]
  },
  {
   "cell_type": "code",
   "execution_count": null,
   "id": "07cbc4bd",
   "metadata": {},
   "outputs": [],
   "source": [
    "# from sklearn.feature_extraction.text import TfidfVectorizer\n",
    "\n",
    "# Fit the TfidfVectorizer to the training data \n",
    "review2 = TfidfVectorizer(min_df=5).fit(X_train) #raw unique tokens"
   ]
  },
  {
   "cell_type": "code",
   "execution_count": 170,
   "id": "097e71b9",
   "metadata": {},
   "outputs": [
    {
     "data": {
      "text/plain": [
       "5415"
      ]
     },
     "execution_count": 170,
     "metadata": {},
     "output_type": "execute_result"
    }
   ],
   "source": [
    "len(review2.get_feature_names_out())"
   ]
  },
  {
   "cell_type": "code",
   "execution_count": 171,
   "id": "55e25fe4",
   "metadata": {},
   "outputs": [
    {
     "name": "stdout",
     "output_type": "stream",
     "text": [
      "AUC:  0.7932860822293921\n"
     ]
    }
   ],
   "source": [
    "X_train_vectorized2 = review2.transform(X_train) #unique tokens in vector format\n",
    "\n",
    "model = LogisticRegression()\n",
    "model.fit(X_train_vectorized2, y_train)\n",
    "\n",
    "predictions = model.predict(review2.transform(X_test))\n",
    "y_proba = model.predict_proba(review2.transform(X_test))\n",
    "                              \n",
    "print('AUC: ', roc_auc_score(y_test, y_proba[:,1])) "
   ]
  },
  {
   "cell_type": "markdown",
   "id": "7cf01842",
   "metadata": {},
   "source": [
    "# n-grams\n",
    "combine2/3 words"
   ]
  },
  {
   "cell_type": "code",
   "execution_count": 172,
   "id": "827ce179",
   "metadata": {},
   "outputs": [],
   "source": [
    "# Try 2-gram/words representation\n",
    "docs = np.array([\n",
    "    'Delivery was exactly as expected',\n",
    "    'Way too heavy for everyday use',\n",
    "    'Great quality, beautiful color'])\n",
    "\n",
    "vect3=CountVectorizer(ngram_range=(1,2)).fit(docs)\n",
    "bag3=vect3.transform(docs)"
   ]
  },
  {
   "cell_type": "code",
   "execution_count": 173,
   "id": "adb9e2ea",
   "metadata": {},
   "outputs": [
    {
     "data": {
      "text/plain": [
       "{'delivery': 5,\n",
       " 'was': 23,\n",
       " 'exactly': 9,\n",
       " 'as': 0,\n",
       " 'expected': 11,\n",
       " 'delivery was': 6,\n",
       " 'was exactly': 24,\n",
       " 'exactly as': 10,\n",
       " 'as expected': 1,\n",
       " 'way': 25,\n",
       " 'too': 20,\n",
       " 'heavy': 16,\n",
       " 'for': 12,\n",
       " 'everyday': 7,\n",
       " 'use': 22,\n",
       " 'way too': 26,\n",
       " 'too heavy': 21,\n",
       " 'heavy for': 17,\n",
       " 'for everyday': 13,\n",
       " 'everyday use': 8,\n",
       " 'great': 14,\n",
       " 'quality': 18,\n",
       " 'beautiful': 2,\n",
       " 'color': 4,\n",
       " 'great quality': 15,\n",
       " 'quality beautiful': 19,\n",
       " 'beautiful color': 3}"
      ]
     },
     "execution_count": 173,
     "metadata": {},
     "output_type": "execute_result"
    }
   ],
   "source": [
    "vect3.vocabulary_"
   ]
  },
  {
   "cell_type": "code",
   "execution_count": 174,
   "id": "629a2187",
   "metadata": {},
   "outputs": [],
   "source": [
    "review3 = CountVectorizer(min_df=5, ngram_range=(1,2)).fit(X_train) #raw unique tokens\n",
    "\n",
    "X_train_vectorized3 = review3.transform(X_train) #vectorized unique tokens"
   ]
  },
  {
   "cell_type": "code",
   "execution_count": 175,
   "id": "85897b51",
   "metadata": {},
   "outputs": [
    {
     "data": {
      "text/plain": [
       "20935"
      ]
     },
     "execution_count": 175,
     "metadata": {},
     "output_type": "execute_result"
    }
   ],
   "source": [
    "len(review3.get_feature_names_out())"
   ]
  },
  {
   "cell_type": "code",
   "execution_count": 176,
   "id": "d9bb5ccf",
   "metadata": {},
   "outputs": [
    {
     "name": "stderr",
     "output_type": "stream",
     "text": [
      "C:\\Users\\UserA\\anaconda3\\Lib\\site-packages\\sklearn\\linear_model\\_logistic.py:460: ConvergenceWarning: lbfgs failed to converge (status=1):\n",
      "STOP: TOTAL NO. of ITERATIONS REACHED LIMIT.\n",
      "\n",
      "Increase the number of iterations (max_iter) or scale the data as shown in:\n",
      "    https://scikit-learn.org/stable/modules/preprocessing.html\n",
      "Please also refer to the documentation for alternative solver options:\n",
      "    https://scikit-learn.org/stable/modules/linear_model.html#logistic-regression\n",
      "  n_iter_i = _check_optimize_result(\n"
     ]
    },
    {
     "name": "stdout",
     "output_type": "stream",
     "text": [
      "AUC:  0.7740935080802505\n"
     ]
    }
   ],
   "source": [
    "model = LogisticRegression()\n",
    "model.fit(X_train_vectorized3, y_train)\n",
    "\n",
    "predictions = model.predict(review3.transform(X_test))\n",
    "y_proba = model.predict_proba(review3.transform(X_test))\n",
    "                              \n",
    "print('AUC: ', roc_auc_score(y_test, y_proba[:,1])) "
   ]
  },
  {
   "cell_type": "code",
   "execution_count": 177,
   "id": "22558779",
   "metadata": {},
   "outputs": [
    {
     "name": "stdout",
     "output_type": "stream",
     "text": [
      "Smallest Coefs:\n",
      "['terrible' 'returned' 'horrible' 'not worth' 'waste' 'great price'\n",
      " 'it my' 'poor' 'work for' 'cheap']\n",
      "\n",
      " Largest Coefs:\n",
      "['stars' 'have not' 'enjoyable' 'the money' 'little tight' 'it out'\n",
      " 'my only' 'so far' 'exactly' 'pair of']\n"
     ]
    }
   ],
   "source": [
    "feature_names_out = np.array(review3.get_feature_names_out())\n",
    "\n",
    "sorted_coef_index = model.coef_[0].argsort()\n",
    "\n",
    "print('Smallest Coefs:' )\n",
    "print(feature_names_out[sorted_coef_index[:10]])\n",
    "      \n",
    "print('\\n Largest Coefs:')      \n",
    "print(feature_names_out[sorted_coef_index[:-11:-1]])"
   ]
  },
  {
   "cell_type": "code",
   "execution_count": 178,
   "id": "0736e995",
   "metadata": {},
   "outputs": [
    {
     "name": "stdout",
     "output_type": "stream",
     "text": [
      "[1 1]\n"
     ]
    }
   ],
   "source": [
    "# These reviews are now correctly identified\n",
    "print(model.predict(review3.transform(['excellent, good',\n",
    "                                    'worst experience ever'])))"
   ]
  },
  {
   "cell_type": "markdown",
   "id": "39100cc5",
   "metadata": {},
   "source": [
    "# EXPLORATORY DATA exercise using same data"
   ]
  },
  {
   "cell_type": "code",
   "execution_count": 190,
   "id": "0504af31",
   "metadata": {},
   "outputs": [],
   "source": [
    "import matplotlib.pyplot as plt\n",
    "import pandas as pd\n",
    "import numpy as np\n",
    "import seaborn as sns #visualisation\n"
   ]
  },
  {
   "cell_type": "code",
   "execution_count": 191,
   "id": "c6e6fdd5",
   "metadata": {},
   "outputs": [],
   "source": [
    "#Categorical"
   ]
  },
  {
   "cell_type": "code",
   "execution_count": 192,
   "id": "e3d4cf9d",
   "metadata": {},
   "outputs": [],
   "source": [
    "Reviews = pd.read_csv('Reviews.csv')"
   ]
  },
  {
   "cell_type": "code",
   "execution_count": 193,
   "id": "285207fd",
   "metadata": {},
   "outputs": [
    {
     "data": {
      "text/html": [
       "<div>\n",
       "<style scoped>\n",
       "    .dataframe tbody tr th:only-of-type {\n",
       "        vertical-align: middle;\n",
       "    }\n",
       "\n",
       "    .dataframe tbody tr th {\n",
       "        vertical-align: top;\n",
       "    }\n",
       "\n",
       "    .dataframe thead th {\n",
       "        text-align: right;\n",
       "    }\n",
       "</style>\n",
       "<table border=\"1\" class=\"dataframe\">\n",
       "  <thead>\n",
       "    <tr style=\"text-align: right;\">\n",
       "      <th></th>\n",
       "      <th>category</th>\n",
       "      <th>rating</th>\n",
       "      <th>label</th>\n",
       "      <th>text_</th>\n",
       "    </tr>\n",
       "  </thead>\n",
       "  <tbody>\n",
       "    <tr>\n",
       "      <th>0</th>\n",
       "      <td>Home_and_Kitchen_5</td>\n",
       "      <td>5.0</td>\n",
       "      <td>CG</td>\n",
       "      <td>Love this!  Well made, sturdy, and very comfor...</td>\n",
       "    </tr>\n",
       "    <tr>\n",
       "      <th>1</th>\n",
       "      <td>Home_and_Kitchen_5</td>\n",
       "      <td>5.0</td>\n",
       "      <td>CG</td>\n",
       "      <td>love it, a great upgrade from the original.  I...</td>\n",
       "    </tr>\n",
       "    <tr>\n",
       "      <th>2</th>\n",
       "      <td>Home_and_Kitchen_5</td>\n",
       "      <td>5.0</td>\n",
       "      <td>CG</td>\n",
       "      <td>This pillow saved my back. I love the look and...</td>\n",
       "    </tr>\n",
       "    <tr>\n",
       "      <th>3</th>\n",
       "      <td>Home_and_Kitchen_5</td>\n",
       "      <td>1.0</td>\n",
       "      <td>CG</td>\n",
       "      <td>Missing information on how to use it, but it i...</td>\n",
       "    </tr>\n",
       "    <tr>\n",
       "      <th>4</th>\n",
       "      <td>Home_and_Kitchen_5</td>\n",
       "      <td>5.0</td>\n",
       "      <td>CG</td>\n",
       "      <td>Very nice set. Good quality. We have had the s...</td>\n",
       "    </tr>\n",
       "  </tbody>\n",
       "</table>\n",
       "</div>"
      ],
      "text/plain": [
       "             category  rating label  \\\n",
       "0  Home_and_Kitchen_5     5.0    CG   \n",
       "1  Home_and_Kitchen_5     5.0    CG   \n",
       "2  Home_and_Kitchen_5     5.0    CG   \n",
       "3  Home_and_Kitchen_5     1.0    CG   \n",
       "4  Home_and_Kitchen_5     5.0    CG   \n",
       "\n",
       "                                               text_  \n",
       "0  Love this!  Well made, sturdy, and very comfor...  \n",
       "1  love it, a great upgrade from the original.  I...  \n",
       "2  This pillow saved my back. I love the look and...  \n",
       "3  Missing information on how to use it, but it i...  \n",
       "4  Very nice set. Good quality. We have had the s...  "
      ]
     },
     "execution_count": 193,
     "metadata": {},
     "output_type": "execute_result"
    }
   ],
   "source": [
    "Reviews.head()"
   ]
  },
  {
   "cell_type": "code",
   "execution_count": 194,
   "id": "6bf464f0",
   "metadata": {},
   "outputs": [
    {
     "name": "stdout",
     "output_type": "stream",
     "text": [
      "<class 'pandas.core.frame.DataFrame'>\n",
      "RangeIndex: 40432 entries, 0 to 40431\n",
      "Data columns (total 4 columns):\n",
      " #   Column    Non-Null Count  Dtype  \n",
      "---  ------    --------------  -----  \n",
      " 0   category  40432 non-null  object \n",
      " 1   rating    40432 non-null  float64\n",
      " 2   label     40432 non-null  object \n",
      " 3   text_     40432 non-null  object \n",
      "dtypes: float64(1), object(3)\n",
      "memory usage: 1.2+ MB\n"
     ]
    }
   ],
   "source": [
    "Reviews.info()"
   ]
  },
  {
   "cell_type": "code",
   "execution_count": 195,
   "id": "a718bfc6",
   "metadata": {},
   "outputs": [
    {
     "data": {
      "text/html": [
       "<div>\n",
       "<style scoped>\n",
       "    .dataframe tbody tr th:only-of-type {\n",
       "        vertical-align: middle;\n",
       "    }\n",
       "\n",
       "    .dataframe tbody tr th {\n",
       "        vertical-align: top;\n",
       "    }\n",
       "\n",
       "    .dataframe thead th {\n",
       "        text-align: right;\n",
       "    }\n",
       "</style>\n",
       "<table border=\"1\" class=\"dataframe\">\n",
       "  <thead>\n",
       "    <tr style=\"text-align: right;\">\n",
       "      <th></th>\n",
       "      <th>rating</th>\n",
       "    </tr>\n",
       "  </thead>\n",
       "  <tbody>\n",
       "    <tr>\n",
       "      <th>count</th>\n",
       "      <td>40432.000000</td>\n",
       "    </tr>\n",
       "    <tr>\n",
       "      <th>mean</th>\n",
       "      <td>4.256579</td>\n",
       "    </tr>\n",
       "    <tr>\n",
       "      <th>std</th>\n",
       "      <td>1.144354</td>\n",
       "    </tr>\n",
       "    <tr>\n",
       "      <th>min</th>\n",
       "      <td>1.000000</td>\n",
       "    </tr>\n",
       "    <tr>\n",
       "      <th>25%</th>\n",
       "      <td>4.000000</td>\n",
       "    </tr>\n",
       "    <tr>\n",
       "      <th>50%</th>\n",
       "      <td>5.000000</td>\n",
       "    </tr>\n",
       "    <tr>\n",
       "      <th>75%</th>\n",
       "      <td>5.000000</td>\n",
       "    </tr>\n",
       "    <tr>\n",
       "      <th>max</th>\n",
       "      <td>5.000000</td>\n",
       "    </tr>\n",
       "  </tbody>\n",
       "</table>\n",
       "</div>"
      ],
      "text/plain": [
       "             rating\n",
       "count  40432.000000\n",
       "mean       4.256579\n",
       "std        1.144354\n",
       "min        1.000000\n",
       "25%        4.000000\n",
       "50%        5.000000\n",
       "75%        5.000000\n",
       "max        5.000000"
      ]
     },
     "execution_count": 195,
     "metadata": {},
     "output_type": "execute_result"
    }
   ],
   "source": [
    "Reviews.describe()"
   ]
  },
  {
   "cell_type": "code",
   "execution_count": 196,
   "id": "6cc9a69c",
   "metadata": {},
   "outputs": [
    {
     "name": "stdout",
     "output_type": "stream",
     "text": [
      "The unique categories of category are:\n"
     ]
    },
    {
     "data": {
      "text/plain": [
       "array(['Home_and_Kitchen_5', 'Sports_and_Outdoors_5', 'Electronics_5',\n",
       "       'Movies_and_TV_5', 'Tools_and_Home_Improvement_5',\n",
       "       'Pet_Supplies_5', 'Kindle_Store_5', 'Books_5', 'Toys_and_Games_5',\n",
       "       'Clothing_Shoes_and_Jewelry_5'], dtype=object)"
      ]
     },
     "execution_count": 196,
     "metadata": {},
     "output_type": "execute_result"
    }
   ],
   "source": [
    "print('The unique categories of category are:')\n",
    "Reviews.category.unique()"
   ]
  },
  {
   "cell_type": "code",
   "execution_count": 197,
   "id": "a80b9768",
   "metadata": {},
   "outputs": [
    {
     "data": {
      "text/plain": [
       "10"
      ]
     },
     "execution_count": 197,
     "metadata": {},
     "output_type": "execute_result"
    }
   ],
   "source": [
    "len(Reviews.category.unique())"
   ]
  },
  {
   "cell_type": "code",
   "execution_count": 198,
   "id": "ab464cf2",
   "metadata": {},
   "outputs": [
    {
     "name": "stdout",
     "output_type": "stream",
     "text": [
      "The frequency table of category are:\n",
      "\n"
     ]
    },
    {
     "data": {
      "text/plain": [
       "category\n",
       "Kindle_Store_5                  4730\n",
       "Books_5                         4370\n",
       "Pet_Supplies_5                  4254\n",
       "Home_and_Kitchen_5              4056\n",
       "Electronics_5                   3988\n",
       "Sports_and_Outdoors_5           3946\n",
       "Tools_and_Home_Improvement_5    3858\n",
       "Clothing_Shoes_and_Jewelry_5    3848\n",
       "Toys_and_Games_5                3794\n",
       "Movies_and_TV_5                 3588\n",
       "Name: count, dtype: int64"
      ]
     },
     "execution_count": 198,
     "metadata": {},
     "output_type": "execute_result"
    }
   ],
   "source": [
    "print('The frequency table of category are:\\n')\n",
    "Reviews.category.value_counts()"
   ]
  },
  {
   "cell_type": "code",
   "execution_count": 199,
   "id": "c6c56b56",
   "metadata": {},
   "outputs": [
    {
     "name": "stdout",
     "output_type": "stream",
     "text": [
      "The percentage for each category of category are:\n",
      "\n"
     ]
    },
    {
     "data": {
      "text/plain": [
       "category\n",
       "Kindle_Store_5                  11.698655\n",
       "Books_5                         10.808271\n",
       "Pet_Supplies_5                  10.521369\n",
       "Home_and_Kitchen_5              10.031658\n",
       "Electronics_5                    9.863474\n",
       "Sports_and_Outdoors_5            9.759596\n",
       "Tools_and_Home_Improvement_5     9.541947\n",
       "Clothing_Shoes_and_Jewelry_5     9.517214\n",
       "Toys_and_Games_5                 9.383657\n",
       "Movies_and_TV_5                  8.874159\n",
       "Name: proportion, dtype: float64"
      ]
     },
     "execution_count": 199,
     "metadata": {},
     "output_type": "execute_result"
    }
   ],
   "source": [
    "print('The percentage for each category of category are:\\n')\n",
    "Reviews.category.value_counts(normalize = True) *100"
   ]
  },
  {
   "cell_type": "code",
   "execution_count": 200,
   "id": "bc34d37b",
   "metadata": {},
   "outputs": [
    {
     "data": {
      "text/plain": [
       "<Axes: xlabel='rating', ylabel='category'>"
      ]
     },
     "execution_count": 200,
     "metadata": {},
     "output_type": "execute_result"
    },
    {
     "data": {
      "image/png": "[encoded data removed]",
      "text/plain": [
       "<Figure size 640x480 with 1 Axes>"
      ]
     },
     "metadata": {},
     "output_type": "display_data"
    }
   ],
   "source": [
    "category= Reviews['category']\n",
    "rating = Reviews['rating']\n",
    "\n",
    "sns.barplot(y = category, x = rating, data = Reviews)"
   ]
  },
  {
   "cell_type": "code",
   "execution_count": 201,
   "id": "742b1037",
   "metadata": {},
   "outputs": [
    {
     "data": {
      "text/plain": [
       "<Axes: title={'center': 'Bar Chart of category in Reviews Data'}, xlabel='category'>"
      ]
     },
     "execution_count": 201,
     "metadata": {},
     "output_type": "execute_result"
    },
    {
     "data": {
      "image/png": "[encoded data removed]",
      "text/plain": [
       "<Figure size 640x480 with 1 Axes>"
      ]
     },
     "metadata": {},
     "output_type": "display_data"
    }
   ],
   "source": [
    "Reviews.category.value_counts().plot.bar(title = 'Bar Chart of category in Reviews Data')"
   ]
  },
  {
   "cell_type": "code",
   "execution_count": 202,
   "id": "f154495e",
   "metadata": {
    "scrolled": true
   },
   "outputs": [
    {
     "data": {
      "image/png": "[encoded data removed]",
      "text/plain": [
       "<Figure size 640x480 with 1 Axes>"
      ]
     },
     "metadata": {},
     "output_type": "display_data"
    }
   ],
   "source": [
    "Reviews.category.value_counts().plot.pie(autopct='%1.1f%%',\n",
    "                                       title = 'Pie Chart of of category in Reviews Data')\n",
    "\n",
    "plt.axis('equal')\n",
    "plt.show()"
   ]
  },
  {
   "cell_type": "code",
   "execution_count": null,
   "id": "4010cfca",
   "metadata": {},
   "outputs": [],
   "source": []
  }
 ],
 "metadata": {
  "kernelspec": {
   "display_name": "Python 3 (ipykernel)",
   "language": "python",
   "name": "python3"
  },
  "language_info": {
   "codemirror_mode": {
    "name": "ipython",
    "version": 3
   },
   "file_extension": ".py",
   "mimetype": "text/x-python",
   "name": "python",
   "nbconvert_exporter": "python",
   "pygments_lexer": "ipython3",
   "version": "3.11.5"
  }
 },
 "nbformat": 4,
 "nbformat_minor": 5
}
